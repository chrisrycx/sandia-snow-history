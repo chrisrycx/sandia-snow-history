{
 "cells": [
  {
   "cell_type": "markdown",
   "id": "54ca5346-c8b0-4223-b930-29cc27888b5b",
   "metadata": {},
   "source": [
    "## ENSO Parse\n",
    "Convert ENSO data to a timeseries"
   ]
  },
  {
   "cell_type": "code",
   "execution_count": 1,
   "id": "4577c07a-1564-49b7-bcf7-cc0fc037a8d2",
   "metadata": {},
   "outputs": [],
   "source": [
    "import pandas as pd"
   ]
  },
  {
   "cell_type": "code",
   "execution_count": 3,
   "id": "3d5abf9c-1211-4c7d-9631-ec2125afe41d",
   "metadata": {},
   "outputs": [],
   "source": [
    "#Load CSV\n",
    "data = pd.read_csv('../data/enso_mei.csv',index_col='YEAR')"
   ]
  },
  {
   "cell_type": "code",
   "execution_count": 4,
   "id": "eaabe7d7-6588-4879-8d7c-5ec24b1de55d",
   "metadata": {},
   "outputs": [
    {
     "data": {
      "text/html": [
       "<div>\n",
       "<style scoped>\n",
       "    .dataframe tbody tr th:only-of-type {\n",
       "        vertical-align: middle;\n",
       "    }\n",
       "\n",
       "    .dataframe tbody tr th {\n",
       "        vertical-align: top;\n",
       "    }\n",
       "\n",
       "    .dataframe thead th {\n",
       "        text-align: right;\n",
       "    }\n",
       "</style>\n",
       "<table border=\"1\" class=\"dataframe\">\n",
       "  <thead>\n",
       "    <tr style=\"text-align: right;\">\n",
       "      <th></th>\n",
       "      <th>DJ</th>\n",
       "      <th>JF</th>\n",
       "      <th>FM</th>\n",
       "      <th>MA</th>\n",
       "      <th>AM</th>\n",
       "      <th>MJ</th>\n",
       "      <th>JJ</th>\n",
       "      <th>JA</th>\n",
       "      <th>AS</th>\n",
       "      <th>SO</th>\n",
       "      <th>ON</th>\n",
       "      <th>ND</th>\n",
       "    </tr>\n",
       "    <tr>\n",
       "      <th>YEAR</th>\n",
       "      <th></th>\n",
       "      <th></th>\n",
       "      <th></th>\n",
       "      <th></th>\n",
       "      <th></th>\n",
       "      <th></th>\n",
       "      <th></th>\n",
       "      <th></th>\n",
       "      <th></th>\n",
       "      <th></th>\n",
       "      <th></th>\n",
       "      <th></th>\n",
       "    </tr>\n",
       "  </thead>\n",
       "  <tbody>\n",
       "    <tr>\n",
       "      <th>1979</th>\n",
       "      <td>0.47</td>\n",
       "      <td>0.26</td>\n",
       "      <td>-0.08</td>\n",
       "      <td>0.20</td>\n",
       "      <td>0.27</td>\n",
       "      <td>-0.15</td>\n",
       "      <td>-0.14</td>\n",
       "      <td>0.44</td>\n",
       "      <td>0.38</td>\n",
       "      <td>0.24</td>\n",
       "      <td>0.52</td>\n",
       "      <td>0.65</td>\n",
       "    </tr>\n",
       "    <tr>\n",
       "      <th>1980</th>\n",
       "      <td>0.35</td>\n",
       "      <td>0.19</td>\n",
       "      <td>0.41</td>\n",
       "      <td>0.59</td>\n",
       "      <td>0.55</td>\n",
       "      <td>0.62</td>\n",
       "      <td>0.62</td>\n",
       "      <td>0.15</td>\n",
       "      <td>0.20</td>\n",
       "      <td>0.09</td>\n",
       "      <td>-0.03</td>\n",
       "      <td>-0.06</td>\n",
       "    </tr>\n",
       "    <tr>\n",
       "      <th>1981</th>\n",
       "      <td>-0.33</td>\n",
       "      <td>-0.24</td>\n",
       "      <td>0.33</td>\n",
       "      <td>0.41</td>\n",
       "      <td>-0.27</td>\n",
       "      <td>-0.60</td>\n",
       "      <td>-0.51</td>\n",
       "      <td>-0.31</td>\n",
       "      <td>-0.01</td>\n",
       "      <td>-0.10</td>\n",
       "      <td>-0.22</td>\n",
       "      <td>-0.16</td>\n",
       "    </tr>\n",
       "    <tr>\n",
       "      <th>1982</th>\n",
       "      <td>-0.38</td>\n",
       "      <td>-0.47</td>\n",
       "      <td>-0.28</td>\n",
       "      <td>-0.34</td>\n",
       "      <td>-0.03</td>\n",
       "      <td>0.78</td>\n",
       "      <td>1.79</td>\n",
       "      <td>2.02</td>\n",
       "      <td>1.81</td>\n",
       "      <td>1.93</td>\n",
       "      <td>2.28</td>\n",
       "      <td>2.48</td>\n",
       "    </tr>\n",
       "    <tr>\n",
       "      <th>1983</th>\n",
       "      <td>2.57</td>\n",
       "      <td>2.74</td>\n",
       "      <td>2.68</td>\n",
       "      <td>2.79</td>\n",
       "      <td>2.89</td>\n",
       "      <td>2.02</td>\n",
       "      <td>0.75</td>\n",
       "      <td>-0.11</td>\n",
       "      <td>-0.41</td>\n",
       "      <td>-0.43</td>\n",
       "      <td>-0.43</td>\n",
       "      <td>-0.43</td>\n",
       "    </tr>\n",
       "  </tbody>\n",
       "</table>\n",
       "</div>"
      ],
      "text/plain": [
       "        DJ    JF    FM    MA    AM    MJ    JJ    JA    AS    SO    ON    ND\n",
       "YEAR                                                                        \n",
       "1979  0.47  0.26 -0.08  0.20  0.27 -0.15 -0.14  0.44  0.38  0.24  0.52  0.65\n",
       "1980  0.35  0.19  0.41  0.59  0.55  0.62  0.62  0.15  0.20  0.09 -0.03 -0.06\n",
       "1981 -0.33 -0.24  0.33  0.41 -0.27 -0.60 -0.51 -0.31 -0.01 -0.10 -0.22 -0.16\n",
       "1982 -0.38 -0.47 -0.28 -0.34 -0.03  0.78  1.79  2.02  1.81  1.93  2.28  2.48\n",
       "1983  2.57  2.74  2.68  2.79  2.89  2.02  0.75 -0.11 -0.41 -0.43 -0.43 -0.43"
      ]
     },
     "execution_count": 4,
     "metadata": {},
     "output_type": "execute_result"
    }
   ],
   "source": [
    "data.head()"
   ]
  },
  {
   "cell_type": "code",
   "execution_count": 7,
   "id": "2d80a352-a299-4134-bf1c-f912fb002cb0",
   "metadata": {},
   "outputs": [
    {
     "data": {
      "text/plain": [
       "Int64Index([1979, 1980, 1981, 1982, 1983, 1984, 1985, 1986, 1987, 1988, 1989,\n",
       "            1990, 1991, 1992, 1993, 1994, 1995, 1996, 1997, 1998, 1999, 2000,\n",
       "            2001, 2002, 2003, 2004, 2005, 2006, 2007, 2008, 2009, 2010, 2011,\n",
       "            2012, 2013, 2014, 2015, 2016, 2017, 2018, 2019, 2020, 2021, 2022],\n",
       "           dtype='int64', name='YEAR')"
      ]
     },
     "execution_count": 7,
     "metadata": {},
     "output_type": "execute_result"
    }
   ],
   "source": [
    "data.index"
   ]
  },
  {
   "cell_type": "code",
   "execution_count": 14,
   "id": "1a379755-cf92-46da-9201-e69f785766e6",
   "metadata": {},
   "outputs": [
    {
     "data": {
      "text/plain": [
       "DatetimeIndex(['1970-01-01 00:00:00.000002022'], dtype='datetime64[ns]', freq='MS')"
      ]
     },
     "execution_count": 14,
     "metadata": {},
     "output_type": "execute_result"
    }
   ],
   "source": [
    "test = pd.date_range(2022,2023,freq='MS',inclusive='left')\n",
    "test"
   ]
  },
  {
   "cell_type": "code",
   "execution_count": 20,
   "id": "1655bd42-d05b-491b-a774-83d36f5ac8fb",
   "metadata": {},
   "outputs": [
    {
     "data": {
      "text/plain": [
       "Int64Index([1979, 1980, 1981, 1982, 1983, 1984, 1985, 1986, 1987, 1988, 1989,\n",
       "            1990, 1991, 1992, 1993, 1994, 1995, 1996, 1997, 1998, 1999, 2000,\n",
       "            2001, 2002, 2003, 2004, 2005, 2006, 2007, 2008, 2009, 2010, 2011,\n",
       "            2012, 2013, 2014, 2015, 2016, 2017, 2018, 2019, 2020, 2021, 2022],\n",
       "           dtype='int64', name='YEAR')"
      ]
     },
     "execution_count": 20,
     "metadata": {},
     "output_type": "execute_result"
    }
   ],
   "source": [
    "data.index"
   ]
  },
  {
   "cell_type": "code",
   "execution_count": 24,
   "id": "46aae66a-0134-48a3-8a57-9c4e553adf1c",
   "metadata": {},
   "outputs": [
    {
     "name": "stderr",
     "output_type": "stream",
     "text": [
      "C:\\Users\\clmbn\\AppData\\Local\\Temp\\ipykernel_8776\\2034092040.py:2: FutureWarning: The default dtype for empty Series will be 'object' instead of 'float64' in a future version. Specify a dtype explicitly to silence this warning.\n",
      "  timeseries = pd.Series()\n"
     ]
    },
    {
     "data": {
      "text/plain": [
       "1979-01-01      0.47\n",
       "1979-02-01      0.26\n",
       "1979-03-01     -0.08\n",
       "1979-04-01      0.20\n",
       "1979-05-01      0.27\n",
       "               ...  \n",
       "2022-08-01     -1.79\n",
       "2022-09-01     -1.78\n",
       "2022-10-01     -1.75\n",
       "2022-11-01   -999.00\n",
       "2022-12-01   -999.00\n",
       "Freq: MS, Length: 528, dtype: float64"
      ]
     },
     "execution_count": 24,
     "metadata": {},
     "output_type": "execute_result"
    }
   ],
   "source": [
    "#Extract values to a timeseries\n",
    "timeseries = pd.Series()\n",
    "\n",
    "for year, year_data in data.iterrows():\n",
    "    dates = pd.date_range(str(year),str(year+1),freq='MS',inclusive='left')\n",
    "    year_data.index = dates \n",
    "    timeseries = pd.concat([timeseries,year_data])\n",
    "    \n",
    "timeseries"
   ]
  },
  {
   "cell_type": "code",
   "execution_count": 26,
   "id": "4afb676b-3bcc-49aa-9b28-f4d9dbcf05e7",
   "metadata": {},
   "outputs": [],
   "source": [
    "#Pickle the result\n",
    "timeseries.to_pickle('../data/enso_mei_timeseries.pkl')"
   ]
  },
  {
   "cell_type": "code",
   "execution_count": null,
   "id": "68474d28-94bb-419b-ba91-a7239bba2468",
   "metadata": {},
   "outputs": [],
   "source": []
  }
 ],
 "metadata": {
  "kernelspec": {
   "display_name": "Python 3 (ipykernel)",
   "language": "python",
   "name": "python3"
  },
  "language_info": {
   "codemirror_mode": {
    "name": "ipython",
    "version": 3
   },
   "file_extension": ".py",
   "mimetype": "text/x-python",
   "name": "python",
   "nbconvert_exporter": "python",
   "pygments_lexer": "ipython3",
   "version": "3.10.6"
  }
 },
 "nbformat": 4,
 "nbformat_minor": 5
}
