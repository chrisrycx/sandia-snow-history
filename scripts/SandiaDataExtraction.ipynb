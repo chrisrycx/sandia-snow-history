{
 "cells": [
  {
   "cell_type": "markdown",
   "id": "e7ce2d91-f73f-4f21-8ae2-932fb0c58983",
   "metadata": {},
   "source": [
    "## Sandia Data Extraction\n",
    "Get data for Sandia Ski Area out of netCDF"
   ]
  },
  {
   "cell_type": "code",
   "execution_count": 1,
   "id": "6017f411-aeca-40c4-a434-39bb7faa7a1c",
   "metadata": {},
   "outputs": [],
   "source": [
    "%matplotlib widget\n",
    "import matplotlib.pyplot as plt\n",
    "import pandas as pd\n",
    "import nmsnow"
   ]
  },
  {
   "cell_type": "markdown",
   "id": "77724da1-179f-4fa7-a532-6683e24eec3c",
   "metadata": {},
   "source": [
    "### Extract Data:\n",
    "From Google Earth picking a spot in the center of the ski area\n",
    "\n",
    "lat: 35.2 long: -106.424"
   ]
  },
  {
   "cell_type": "code",
   "execution_count": 2,
   "id": "9c063151-a667-4186-9293-fc9e1cca9dba",
   "metadata": {},
   "outputs": [],
   "source": [
    "location = (35.2,-106.424)"
   ]
  },
  {
   "cell_type": "code",
   "execution_count": 3,
   "id": "bbd24aad-ac11-4f6a-8754-c58921485fc1",
   "metadata": {},
   "outputs": [],
   "source": [
    "depth = nmsnow.getdata(location,'DEPTH')"
   ]
  },
  {
   "cell_type": "code",
   "execution_count": 4,
   "id": "f8adefa2-18ae-4cc1-a493-72c706acf8a3",
   "metadata": {},
   "outputs": [],
   "source": [
    "swe = nmsnow.getdata(location,'SWE')"
   ]
  },
  {
   "cell_type": "code",
   "execution_count": 5,
   "id": "6a4258d5-21ff-4bad-89ad-23eb2476ac1c",
   "metadata": {},
   "outputs": [],
   "source": [
    "#Combine into dataframe\n",
    "data = pd.DataFrame({'swe_mm':swe,'depth_mm':depth})"
   ]
  },
  {
   "cell_type": "code",
   "execution_count": 6,
   "id": "36b49dd4-2612-4d0f-b325-b8db5ff4106f",
   "metadata": {},
   "outputs": [],
   "source": [
    "data['depth_in'] = data['depth_mm']/25.4"
   ]
  },
  {
   "cell_type": "markdown",
   "id": "6369483b-9a33-40a7-8764-0e69d642c2b2",
   "metadata": {},
   "source": [
    "### Pickle Data for later"
   ]
  },
  {
   "cell_type": "code",
   "execution_count": 7,
   "id": "7c854279-2b88-4e1e-bfe2-bb0b5654fb86",
   "metadata": {},
   "outputs": [],
   "source": [
    "data.to_pickle('../data/NMdata/sandia_snow.pkl')"
   ]
  },
  {
   "cell_type": "code",
   "execution_count": null,
   "id": "23eb92c9-51f0-421e-be22-e203f5209717",
   "metadata": {},
   "outputs": [],
   "source": []
  }
 ],
 "metadata": {
  "kernelspec": {
   "display_name": "Python 3 (ipykernel)",
   "language": "python",
   "name": "python3"
  },
  "language_info": {
   "codemirror_mode": {
    "name": "ipython",
    "version": 3
   },
   "file_extension": ".py",
   "mimetype": "text/x-python",
   "name": "python",
   "nbconvert_exporter": "python",
   "pygments_lexer": "ipython3",
   "version": "3.10.6"
  }
 },
 "nbformat": 4,
 "nbformat_minor": 5
}
