{
 "cells": [
  {
   "cell_type": "markdown",
   "id": "26e13d32-ae4c-4ae3-886f-3b0e306ed541",
   "metadata": {},
   "source": [
    "## Snotel Compare\n",
    "Compare grid values to Snotel data"
   ]
  },
  {
   "cell_type": "code",
   "execution_count": null,
   "id": "6f4a8413-3783-4151-8649-58f07607fcdf",
   "metadata": {},
   "outputs": [],
   "source": [
    "%matplotlib widget\n",
    "import pandas as pd\n",
    "import xarray as xr\n",
    "import nmsnow"
   ]
  },
  {
   "cell_type": "markdown",
   "id": "0beb9118-de1e-4c67-afe5-31dbcd309eac",
   "metadata": {},
   "source": [
    "### Compare to Quemazon\n",
    "This Snotel site is located in the Jemez at 9507ft. It appears to be on an East facing slope just west of Los Alamos.\n",
    "The record for this station goes all the way back to 1980."
   ]
  },
  {
   "cell_type": "code",
   "execution_count": null,
   "id": "b0da2180-19b3-4945-a2aa-60284907e856",
   "metadata": {},
   "outputs": [],
   "source": [
    "quemazon = pd.read_csv('data/snotel/quemazon_daily.csv',index_col='date',parse_dates=True)"
   ]
  },
  {
   "cell_type": "code",
   "execution_count": null,
   "id": "3d85c529-7fc8-44ab-baf7-3d9bcc1a3a1f",
   "metadata": {},
   "outputs": [],
   "source": [
    "quemazon['swe_mm'] = quemazon['swe_in']*25.4"
   ]
  },
  {
   "cell_type": "code",
   "execution_count": null,
   "id": "f0b08f94-f2e4-4b41-96d0-53cfb0971b0f",
   "metadata": {},
   "outputs": [],
   "source": [
    "quemazon.head()"
   ]
  },
  {
   "cell_type": "code",
   "execution_count": null,
   "id": "b8d95039-3461-42b2-9c2e-012da0a63756",
   "metadata": {},
   "outputs": [],
   "source": [
    "# Load data from grid\n",
    "nmdata = xr.open_dataset('data/4km_SWE_Depth_NM.nc')\n",
    "quemazon_grid = nmdata['SWE'].sel(lat=35.92,lon=-106.39,method='nearest').to_pandas()"
   ]
  },
  {
   "cell_type": "code",
   "execution_count": null,
   "id": "8991ed36-2d9d-4187-9e6e-289d811724c4",
   "metadata": {},
   "outputs": [],
   "source": [
    "quemazon_grid.head()"
   ]
  },
  {
   "cell_type": "code",
   "execution_count": null,
   "id": "a634fb60-b9af-49a4-98fe-1ee2975fa2cf",
   "metadata": {},
   "outputs": [],
   "source": [
    "axs = quemazon['swe_mm'].plot(color='blue')\n",
    "quemazon_grid.plot(ax=axs,color='orange')"
   ]
  },
  {
   "cell_type": "code",
   "execution_count": null,
   "id": "e5c6f4a9-2319-40e8-bad1-2de06db79852",
   "metadata": {},
   "outputs": [],
   "source": []
  }
 ],
 "metadata": {
  "kernelspec": {
   "display_name": "Python 3 (ipykernel)",
   "language": "python",
   "name": "python3"
  },
  "language_info": {
   "codemirror_mode": {
    "name": "ipython",
    "version": 3
   },
   "file_extension": ".py",
   "mimetype": "text/x-python",
   "name": "python",
   "nbconvert_exporter": "python",
   "pygments_lexer": "ipython3",
   "version": "3.10.6"
  }
 },
 "nbformat": 4,
 "nbformat_minor": 5
}
